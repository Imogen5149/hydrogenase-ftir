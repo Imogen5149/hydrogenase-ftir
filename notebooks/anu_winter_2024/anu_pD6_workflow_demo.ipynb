{
 "cells": [
  {
   "cell_type": "code",
   "execution_count": 1,
   "metadata": {},
   "outputs": [],
   "source": [
    "import sys\n",
    "sys.path.append(\"/Users/anuram/Documents/hydrogenase-ftir/src\")\n",
    "sys.path.append(\"/Users/anuram/Documents/hydrogenase-ftir/notebooks/anu_winter_2024\")\n",
    "#sys.path.append(\"/Users/anuram/Documents/Documents/hydrogenase-ftir/src/hydrogenase_processing\")"
   ]
  },
  {
   "cell_type": "code",
   "execution_count": 2,
   "metadata": {},
   "outputs": [],
   "source": [
    "%load_ext autoreload\n",
    "%autoreload 2\n",
    "\n",
    "#Setting Up and Importing the Necessary Packages/Libraries\n",
    "##Package for reading in Bruker OPUS type files\n",
    "from brukeropusreader import read_file\n",
    "import matplotlib.pyplot as plt\n",
    "from scipy.interpolate import UnivariateSpline\n",
    "import pathlib\n",
    "\n",
    "#Local Functions\n",
    "from hydrogenase_processing.cut_range import cut_range_subtract_prospecpy_objects\n",
    "from hydrogenase_processing.second_deriv import  second_deriv_prospecpy_objects\n",
    "from hydrogenase_processing.baseline import baseline_correction_prospecpy_objects\n",
    "from hydrogenase_processing.peak_fit import gaussian_fit_prospecpy_objects, lorentzian_fit_prospecpy_objects\n",
    "from hydrogenase_processing.io import import_run_data\n",
    "from hydrogenase_processing.interact import interact\n"
   ]
  },
  {
   "cell_type": "markdown",
   "metadata": {},
   "source": [
    "# Importing spectra data and water vapor data"
   ]
  },
  {
   "cell_type": "code",
   "execution_count": 3,
   "metadata": {},
   "outputs": [],
   "source": [
    "#Paths to Local Data\n",
    "path_to_water_vapor_data = pathlib.Path(\"../../data/opus_files/water_vapor\")\n",
    "path_to_output_plots_= pathlib.Path(\"../../data/output_plots/\")\n",
    "path_to_pD6_data = pathlib.Path(\"../../data/opus_files/pD6\")"
   ]
  },
  {
   "cell_type": "code",
   "execution_count": 4,
   "metadata": {},
   "outputs": [],
   "source": [
    "pD6_raw_data = import_run_data(path_to_pD6_data, input_type=\"raw spectra\", output_folder = '../../output_plots/')\n",
    "wv_data = import_run_data(path_to_water_vapor_data)"
   ]
  },
  {
   "cell_type": "code",
   "execution_count": 5,
   "metadata": {},
   "outputs": [
    {
     "data": {
      "text/plain": [
       "'../../output_plots//pD6/Hyd1 pD6 ACT.0000'"
      ]
     },
     "execution_count": 5,
     "metadata": {},
     "output_type": "execute_result"
    }
   ],
   "source": [
    "pD6_raw_data[0].output_folder"
   ]
  },
  {
   "cell_type": "markdown",
   "metadata": {},
   "source": [
    "# Subtracting water vapor from raw spectra"
   ]
  },
  {
   "cell_type": "code",
   "execution_count": 6,
   "metadata": {},
   "outputs": [
    {
     "name": "stdout",
     "output_type": "stream",
     "text": [
      "Plot saved to ../../output_plots//pD6/Hyd1 pD6 ACT.0000/cut_range_subtracted_spectra\n",
      "Atmospheric fit parameters saved to ../../output_plots//pD6/Hyd1 pD6 ACT.0000/cut_atmfitparameters.csv\n",
      "Cut subtracted data saved to ../../output_plots//pD6/Hyd1 pD6 ACT.0000/cut_subtracted_data.csv\n",
      "Plot saved to ../../output_plots//pD6/Hyd1 pD6 ACT.0001/cut_range_subtracted_spectra\n",
      "Atmospheric fit parameters saved to ../../output_plots//pD6/Hyd1 pD6 ACT.0001/cut_atmfitparameters.csv\n",
      "Cut subtracted data saved to ../../output_plots//pD6/Hyd1 pD6 ACT.0001/cut_subtracted_data.csv\n",
      "Plot saved to ../../output_plots//pD6/Hyd1 pD6 ACT.0002/cut_range_subtracted_spectra\n",
      "Atmospheric fit parameters saved to ../../output_plots//pD6/Hyd1 pD6 ACT.0002/cut_atmfitparameters.csv\n",
      "Cut subtracted data saved to ../../output_plots//pD6/Hyd1 pD6 ACT.0002/cut_subtracted_data.csv\n",
      "Plot saved to ../../output_plots//pD6/Hyd1 pD6 ACT.0003/cut_range_subtracted_spectra\n",
      "Atmospheric fit parameters saved to ../../output_plots//pD6/Hyd1 pD6 ACT.0003/cut_atmfitparameters.csv\n",
      "Cut subtracted data saved to ../../output_plots//pD6/Hyd1 pD6 ACT.0003/cut_subtracted_data.csv\n",
      "Plot saved to ../../output_plots//pD6/Hyd1 pD6 ACT.0004/cut_range_subtracted_spectra\n",
      "Atmospheric fit parameters saved to ../../output_plots//pD6/Hyd1 pD6 ACT.0004/cut_atmfitparameters.csv\n",
      "Cut subtracted data saved to ../../output_plots//pD6/Hyd1 pD6 ACT.0004/cut_subtracted_data.csv\n",
      "Plot saved to ../../output_plots//pD6/Hyd1 pD6 ACT.0005/cut_range_subtracted_spectra\n",
      "Atmospheric fit parameters saved to ../../output_plots//pD6/Hyd1 pD6 ACT.0005/cut_atmfitparameters.csv\n",
      "Cut subtracted data saved to ../../output_plots//pD6/Hyd1 pD6 ACT.0005/cut_subtracted_data.csv\n",
      "Plot saved to ../../output_plots//pD6/Hyd1 pD6 ACT.0006/cut_range_subtracted_spectra\n",
      "Atmospheric fit parameters saved to ../../output_plots//pD6/Hyd1 pD6 ACT.0006/cut_atmfitparameters.csv\n",
      "Cut subtracted data saved to ../../output_plots//pD6/Hyd1 pD6 ACT.0006/cut_subtracted_data.csv\n",
      "Plot saved to ../../output_plots//pD6/Hyd1 pD6 ACT.0007/cut_range_subtracted_spectra\n",
      "Atmospheric fit parameters saved to ../../output_plots//pD6/Hyd1 pD6 ACT.0007/cut_atmfitparameters.csv\n",
      "Cut subtracted data saved to ../../output_plots//pD6/Hyd1 pD6 ACT.0007/cut_subtracted_data.csv\n",
      "Plot saved to ../../output_plots//pD6/Hyd1 pD6 ACT.0008/cut_range_subtracted_spectra\n",
      "Atmospheric fit parameters saved to ../../output_plots//pD6/Hyd1 pD6 ACT.0008/cut_atmfitparameters.csv\n",
      "Cut subtracted data saved to ../../output_plots//pD6/Hyd1 pD6 ACT.0008/cut_subtracted_data.csv\n",
      "Plot saved to ../../output_plots//pD6/Hyd1 pD6 ACT.0009/cut_range_subtracted_spectra\n",
      "Atmospheric fit parameters saved to ../../output_plots//pD6/Hyd1 pD6 ACT.0009/cut_atmfitparameters.csv\n",
      "Cut subtracted data saved to ../../output_plots//pD6/Hyd1 pD6 ACT.0009/cut_subtracted_data.csv\n",
      "Plot saved to ../../output_plots//pD6/Hyd1 pD6 ACT.0010/cut_range_subtracted_spectra\n",
      "Atmospheric fit parameters saved to ../../output_plots//pD6/Hyd1 pD6 ACT.0010/cut_atmfitparameters.csv\n",
      "Cut subtracted data saved to ../../output_plots//pD6/Hyd1 pD6 ACT.0010/cut_subtracted_data.csv\n",
      "Plot saved to ../../output_plots//pD6/Hyd1 pD6 ACT.0011/cut_range_subtracted_spectra\n",
      "Atmospheric fit parameters saved to ../../output_plots//pD6/Hyd1 pD6 ACT.0011/cut_atmfitparameters.csv\n",
      "Cut subtracted data saved to ../../output_plots//pD6/Hyd1 pD6 ACT.0011/cut_subtracted_data.csv\n",
      "Plot saved to ../../output_plots//pD6/Hyd1 pD6 ACT.0012/cut_range_subtracted_spectra\n",
      "Atmospheric fit parameters saved to ../../output_plots//pD6/Hyd1 pD6 ACT.0012/cut_atmfitparameters.csv\n",
      "Cut subtracted data saved to ../../output_plots//pD6/Hyd1 pD6 ACT.0012/cut_subtracted_data.csv\n",
      "Plot saved to ../../output_plots//pD6/Hyd1 pD6 ACT.0013/cut_range_subtracted_spectra\n",
      "Atmospheric fit parameters saved to ../../output_plots//pD6/Hyd1 pD6 ACT.0013/cut_atmfitparameters.csv\n",
      "Cut subtracted data saved to ../../output_plots//pD6/Hyd1 pD6 ACT.0013/cut_subtracted_data.csv\n",
      "Plot saved to ../../output_plots//pD6/Hyd1 pD6 ACT.0014/cut_range_subtracted_spectra\n",
      "Atmospheric fit parameters saved to ../../output_plots//pD6/Hyd1 pD6 ACT.0014/cut_atmfitparameters.csv\n",
      "Cut subtracted data saved to ../../output_plots//pD6/Hyd1 pD6 ACT.0014/cut_subtracted_data.csv\n",
      "Plot saved to ../../output_plots//pD6/Hyd1 pD6 ACT.0015/cut_range_subtracted_spectra\n",
      "Atmospheric fit parameters saved to ../../output_plots//pD6/Hyd1 pD6 ACT.0015/cut_atmfitparameters.csv\n",
      "Cut subtracted data saved to ../../output_plots//pD6/Hyd1 pD6 ACT.0015/cut_subtracted_data.csv\n",
      "Plot saved to ../../output_plots//pD6/Hyd1 pD6 ACT.0016/cut_range_subtracted_spectra\n",
      "Atmospheric fit parameters saved to ../../output_plots//pD6/Hyd1 pD6 ACT.0016/cut_atmfitparameters.csv\n",
      "Cut subtracted data saved to ../../output_plots//pD6/Hyd1 pD6 ACT.0016/cut_subtracted_data.csv\n",
      "Plot saved to ../../output_plots//pD6/Hyd1 pD6 ACT.0017/cut_range_subtracted_spectra\n",
      "Atmospheric fit parameters saved to ../../output_plots//pD6/Hyd1 pD6 ACT.0017/cut_atmfitparameters.csv\n",
      "Cut subtracted data saved to ../../output_plots//pD6/Hyd1 pD6 ACT.0017/cut_subtracted_data.csv\n",
      "Plot saved to ../../output_plots//pD6/Hyd1 pD6 ACT.0018/cut_range_subtracted_spectra\n",
      "Atmospheric fit parameters saved to ../../output_plots//pD6/Hyd1 pD6 ACT.0018/cut_atmfitparameters.csv\n",
      "Cut subtracted data saved to ../../output_plots//pD6/Hyd1 pD6 ACT.0018/cut_subtracted_data.csv\n",
      "Plot saved to ../../output_plots//pD6/Hyd1 pD6 ACT.0019/cut_range_subtracted_spectra\n",
      "Atmospheric fit parameters saved to ../../output_plots//pD6/Hyd1 pD6 ACT.0019/cut_atmfitparameters.csv\n",
      "Cut subtracted data saved to ../../output_plots//pD6/Hyd1 pD6 ACT.0019/cut_subtracted_data.csv\n",
      "Plot saved to ../../output_plots//pD6/Hyd1 pD6 ACT.0020/cut_range_subtracted_spectra\n",
      "Atmospheric fit parameters saved to ../../output_plots//pD6/Hyd1 pD6 ACT.0020/cut_atmfitparameters.csv\n",
      "Cut subtracted data saved to ../../output_plots//pD6/Hyd1 pD6 ACT.0020/cut_subtracted_data.csv\n",
      "Plot saved to ../../output_plots//pD6/Hyd1 pD6 ACT.0021/cut_range_subtracted_spectra\n",
      "Atmospheric fit parameters saved to ../../output_plots//pD6/Hyd1 pD6 ACT.0021/cut_atmfitparameters.csv\n",
      "Cut subtracted data saved to ../../output_plots//pD6/Hyd1 pD6 ACT.0021/cut_subtracted_data.csv\n",
      "Plot saved to ../../output_plots//pD6/Hyd1 pD6 ACT.0022/cut_range_subtracted_spectra\n",
      "Atmospheric fit parameters saved to ../../output_plots//pD6/Hyd1 pD6 ACT.0022/cut_atmfitparameters.csv\n",
      "Cut subtracted data saved to ../../output_plots//pD6/Hyd1 pD6 ACT.0022/cut_subtracted_data.csv\n",
      "Plot saved to ../../output_plots//pD6/Hyd1 pD6 ACT.0023/cut_range_subtracted_spectra\n",
      "Atmospheric fit parameters saved to ../../output_plots//pD6/Hyd1 pD6 ACT.0023/cut_atmfitparameters.csv\n",
      "Cut subtracted data saved to ../../output_plots//pD6/Hyd1 pD6 ACT.0023/cut_subtracted_data.csv\n",
      "Plot saved to ../../output_plots//pD6/Hyd1 pD6 ACT.0024/cut_range_subtracted_spectra\n",
      "Atmospheric fit parameters saved to ../../output_plots//pD6/Hyd1 pD6 ACT.0024/cut_atmfitparameters.csv\n",
      "Cut subtracted data saved to ../../output_plots//pD6/Hyd1 pD6 ACT.0024/cut_subtracted_data.csv\n",
      "Plot saved to ../../output_plots//pD6/Hyd1 pD6 ACT.0025/cut_range_subtracted_spectra\n",
      "Atmospheric fit parameters saved to ../../output_plots//pD6/Hyd1 pD6 ACT.0025/cut_atmfitparameters.csv\n",
      "Cut subtracted data saved to ../../output_plots//pD6/Hyd1 pD6 ACT.0025/cut_subtracted_data.csv\n",
      "Plot saved to ../../output_plots//pD6/Hyd1 pD6 OCP.0/cut_range_subtracted_spectra\n",
      "Atmospheric fit parameters saved to ../../output_plots//pD6/Hyd1 pD6 OCP.0/cut_atmfitparameters.csv\n",
      "Cut subtracted data saved to ../../output_plots//pD6/Hyd1 pD6 OCP.0/cut_subtracted_data.csv\n"
     ]
    }
   ],
   "source": [
    "#Initializing dict of post water vapor subtraction spectra\n",
    "cut_range_subtract_prospecpy_objects(pD6_raw_data, wv_data, range_start = 2150, range_end = 1850, showplots=False, verbose= True)\n",
    "#pD6_raw_data[].cut_subtracted_data"
   ]
  },
  {
   "cell_type": "markdown",
   "metadata": {},
   "source": [
    "## Get the second derivatives"
   ]
  },
  {
   "cell_type": "code",
   "execution_count": 7,
   "metadata": {},
   "outputs": [
    {
     "name": "stdout",
     "output_type": "stream",
     "text": [
      "Plot saved to ../../output_plots//pD6/Hyd1 pD6 ACT.0000/subtracted_spectra\n",
      "Plot saved to ../../output_plots//pD6/Hyd1 pD6 ACT.0000/second_derivative_fig\n",
      "Second derivative csv data saved to ../../output_plots//pD6/Hyd1 pD6 ACT.0000/second_derivative_data.csv\n",
      "Plot saved to ../../output_plots//pD6/Hyd1 pD6 ACT.0001/subtracted_spectra\n",
      "Plot saved to ../../output_plots//pD6/Hyd1 pD6 ACT.0001/second_derivative_fig\n",
      "Second derivative csv data saved to ../../output_plots//pD6/Hyd1 pD6 ACT.0001/second_derivative_data.csv\n",
      "Plot saved to ../../output_plots//pD6/Hyd1 pD6 ACT.0002/subtracted_spectra\n",
      "Plot saved to ../../output_plots//pD6/Hyd1 pD6 ACT.0002/second_derivative_fig\n",
      "Second derivative csv data saved to ../../output_plots//pD6/Hyd1 pD6 ACT.0002/second_derivative_data.csv\n",
      "Plot saved to ../../output_plots//pD6/Hyd1 pD6 ACT.0003/subtracted_spectra\n",
      "Plot saved to ../../output_plots//pD6/Hyd1 pD6 ACT.0003/second_derivative_fig\n",
      "Second derivative csv data saved to ../../output_plots//pD6/Hyd1 pD6 ACT.0003/second_derivative_data.csv\n",
      "Plot saved to ../../output_plots//pD6/Hyd1 pD6 ACT.0004/subtracted_spectra\n",
      "Plot saved to ../../output_plots//pD6/Hyd1 pD6 ACT.0004/second_derivative_fig\n",
      "Second derivative csv data saved to ../../output_plots//pD6/Hyd1 pD6 ACT.0004/second_derivative_data.csv\n",
      "Plot saved to ../../output_plots//pD6/Hyd1 pD6 ACT.0005/subtracted_spectra\n",
      "Plot saved to ../../output_plots//pD6/Hyd1 pD6 ACT.0005/second_derivative_fig\n",
      "Second derivative csv data saved to ../../output_plots//pD6/Hyd1 pD6 ACT.0005/second_derivative_data.csv\n",
      "Plot saved to ../../output_plots//pD6/Hyd1 pD6 ACT.0006/subtracted_spectra\n",
      "Plot saved to ../../output_plots//pD6/Hyd1 pD6 ACT.0006/second_derivative_fig\n",
      "Second derivative csv data saved to ../../output_plots//pD6/Hyd1 pD6 ACT.0006/second_derivative_data.csv\n",
      "Plot saved to ../../output_plots//pD6/Hyd1 pD6 ACT.0007/subtracted_spectra\n",
      "Plot saved to ../../output_plots//pD6/Hyd1 pD6 ACT.0007/second_derivative_fig\n",
      "Second derivative csv data saved to ../../output_plots//pD6/Hyd1 pD6 ACT.0007/second_derivative_data.csv\n",
      "Plot saved to ../../output_plots//pD6/Hyd1 pD6 ACT.0008/subtracted_spectra\n",
      "Plot saved to ../../output_plots//pD6/Hyd1 pD6 ACT.0008/second_derivative_fig\n",
      "Second derivative csv data saved to ../../output_plots//pD6/Hyd1 pD6 ACT.0008/second_derivative_data.csv\n",
      "Plot saved to ../../output_plots//pD6/Hyd1 pD6 ACT.0009/subtracted_spectra\n",
      "Plot saved to ../../output_plots//pD6/Hyd1 pD6 ACT.0009/second_derivative_fig\n",
      "Second derivative csv data saved to ../../output_plots//pD6/Hyd1 pD6 ACT.0009/second_derivative_data.csv\n",
      "Plot saved to ../../output_plots//pD6/Hyd1 pD6 ACT.0010/subtracted_spectra\n",
      "Plot saved to ../../output_plots//pD6/Hyd1 pD6 ACT.0010/second_derivative_fig\n",
      "Second derivative csv data saved to ../../output_plots//pD6/Hyd1 pD6 ACT.0010/second_derivative_data.csv\n",
      "Plot saved to ../../output_plots//pD6/Hyd1 pD6 ACT.0011/subtracted_spectra\n",
      "Plot saved to ../../output_plots//pD6/Hyd1 pD6 ACT.0011/second_derivative_fig\n",
      "Second derivative csv data saved to ../../output_plots//pD6/Hyd1 pD6 ACT.0011/second_derivative_data.csv\n",
      "Plot saved to ../../output_plots//pD6/Hyd1 pD6 ACT.0012/subtracted_spectra\n",
      "Plot saved to ../../output_plots//pD6/Hyd1 pD6 ACT.0012/second_derivative_fig\n",
      "Second derivative csv data saved to ../../output_plots//pD6/Hyd1 pD6 ACT.0012/second_derivative_data.csv\n",
      "Plot saved to ../../output_plots//pD6/Hyd1 pD6 ACT.0013/subtracted_spectra\n",
      "Plot saved to ../../output_plots//pD6/Hyd1 pD6 ACT.0013/second_derivative_fig\n",
      "Second derivative csv data saved to ../../output_plots//pD6/Hyd1 pD6 ACT.0013/second_derivative_data.csv\n",
      "Plot saved to ../../output_plots//pD6/Hyd1 pD6 ACT.0014/subtracted_spectra\n",
      "Plot saved to ../../output_plots//pD6/Hyd1 pD6 ACT.0014/second_derivative_fig\n",
      "Second derivative csv data saved to ../../output_plots//pD6/Hyd1 pD6 ACT.0014/second_derivative_data.csv\n",
      "Plot saved to ../../output_plots//pD6/Hyd1 pD6 ACT.0015/subtracted_spectra\n",
      "Plot saved to ../../output_plots//pD6/Hyd1 pD6 ACT.0015/second_derivative_fig\n",
      "Second derivative csv data saved to ../../output_plots//pD6/Hyd1 pD6 ACT.0015/second_derivative_data.csv\n",
      "Plot saved to ../../output_plots//pD6/Hyd1 pD6 ACT.0016/subtracted_spectra\n",
      "Plot saved to ../../output_plots//pD6/Hyd1 pD6 ACT.0016/second_derivative_fig\n",
      "Second derivative csv data saved to ../../output_plots//pD6/Hyd1 pD6 ACT.0016/second_derivative_data.csv\n",
      "Plot saved to ../../output_plots//pD6/Hyd1 pD6 ACT.0017/subtracted_spectra\n",
      "Plot saved to ../../output_plots//pD6/Hyd1 pD6 ACT.0017/second_derivative_fig\n",
      "Second derivative csv data saved to ../../output_plots//pD6/Hyd1 pD6 ACT.0017/second_derivative_data.csv\n",
      "Plot saved to ../../output_plots//pD6/Hyd1 pD6 ACT.0018/subtracted_spectra\n",
      "Plot saved to ../../output_plots//pD6/Hyd1 pD6 ACT.0018/second_derivative_fig\n",
      "Second derivative csv data saved to ../../output_plots//pD6/Hyd1 pD6 ACT.0018/second_derivative_data.csv\n",
      "Plot saved to ../../output_plots//pD6/Hyd1 pD6 ACT.0019/subtracted_spectra\n",
      "Plot saved to ../../output_plots//pD6/Hyd1 pD6 ACT.0019/second_derivative_fig\n",
      "Second derivative csv data saved to ../../output_plots//pD6/Hyd1 pD6 ACT.0019/second_derivative_data.csv\n",
      "Plot saved to ../../output_plots//pD6/Hyd1 pD6 ACT.0020/subtracted_spectra\n",
      "Plot saved to ../../output_plots//pD6/Hyd1 pD6 ACT.0020/second_derivative_fig\n",
      "Second derivative csv data saved to ../../output_plots//pD6/Hyd1 pD6 ACT.0020/second_derivative_data.csv\n",
      "Plot saved to ../../output_plots//pD6/Hyd1 pD6 ACT.0021/subtracted_spectra\n",
      "Plot saved to ../../output_plots//pD6/Hyd1 pD6 ACT.0021/second_derivative_fig\n",
      "Second derivative csv data saved to ../../output_plots//pD6/Hyd1 pD6 ACT.0021/second_derivative_data.csv\n",
      "Plot saved to ../../output_plots//pD6/Hyd1 pD6 ACT.0022/subtracted_spectra\n",
      "Plot saved to ../../output_plots//pD6/Hyd1 pD6 ACT.0022/second_derivative_fig\n",
      "Second derivative csv data saved to ../../output_plots//pD6/Hyd1 pD6 ACT.0022/second_derivative_data.csv\n",
      "Plot saved to ../../output_plots//pD6/Hyd1 pD6 ACT.0023/subtracted_spectra\n",
      "Plot saved to ../../output_plots//pD6/Hyd1 pD6 ACT.0023/second_derivative_fig\n",
      "Second derivative csv data saved to ../../output_plots//pD6/Hyd1 pD6 ACT.0023/second_derivative_data.csv\n",
      "Plot saved to ../../output_plots//pD6/Hyd1 pD6 ACT.0024/subtracted_spectra\n",
      "Plot saved to ../../output_plots//pD6/Hyd1 pD6 ACT.0024/second_derivative_fig\n",
      "Second derivative csv data saved to ../../output_plots//pD6/Hyd1 pD6 ACT.0024/second_derivative_data.csv\n",
      "Plot saved to ../../output_plots//pD6/Hyd1 pD6 ACT.0025/subtracted_spectra\n",
      "Plot saved to ../../output_plots//pD6/Hyd1 pD6 ACT.0025/second_derivative_fig\n",
      "Second derivative csv data saved to ../../output_plots//pD6/Hyd1 pD6 ACT.0025/second_derivative_data.csv\n",
      "Plot saved to ../../output_plots//pD6/Hyd1 pD6 OCP.0/subtracted_spectra\n",
      "Plot saved to ../../output_plots//pD6/Hyd1 pD6 OCP.0/second_derivative_fig\n",
      "Second derivative csv data saved to ../../output_plots//pD6/Hyd1 pD6 OCP.0/second_derivative_data.csv\n"
     ]
    }
   ],
   "source": [
    "second_deriv_prospecpy_objects(pD6_raw_data, show_plots=False, verbose = True)"
   ]
  },
  {
   "cell_type": "markdown",
   "metadata": {},
   "source": [
    "## Using a user interface please select the appropriate number of peaks using the threshold variable and number of anchor points using adjustment factor variable"
   ]
  },
  {
   "cell_type": "code",
   "execution_count": 8,
   "metadata": {},
   "outputs": [
    {
     "data": {
      "application/vnd.jupyter.widget-view+json": {
       "model_id": "1a528e7fa78244b5b6dc9239fe49660d",
       "version_major": 2,
       "version_minor": 0
      },
      "text/plain": [
       "ToggleButtons(description='Step 1. File selection:', options=('Hyd1 pD6 ACT.0000', 'Hyd1 pD6 ACT.0001', 'Hyd1 …"
      ]
     },
     "metadata": {},
     "output_type": "display_data"
    },
    {
     "data": {
      "application/vnd.jupyter.widget-view+json": {
       "model_id": "a80eb77efc6c466bbdd812479a888bef",
       "version_major": 2,
       "version_minor": 0
      },
      "text/plain": [
       "Output()"
      ]
     },
     "metadata": {},
     "output_type": "display_data"
    },
    {
     "data": {
      "application/vnd.jupyter.widget-view+json": {
       "model_id": "e832b9bc67b24cf183fb7d5f82a911c0",
       "version_major": 2,
       "version_minor": 0
      },
      "text/plain": [
       "BoundedFloatText(value=0.4, description='Threshold for peak selection(0 to 1 in 0.01 steps):', layout=Layout(w…"
      ]
     },
     "metadata": {},
     "output_type": "display_data"
    },
    {
     "data": {
      "application/vnd.jupyter.widget-view+json": {
       "model_id": "49c1c62bb1fa42a5aacbc87f6b579321",
       "version_major": 2,
       "version_minor": 0
      },
      "text/plain": [
       "BoundedFloatText(value=1.8, description='adj for anchor point selection(0 to 5 in 0.01 steps):', layout=Layout…"
      ]
     },
     "metadata": {},
     "output_type": "display_data"
    },
    {
     "data": {
      "application/vnd.jupyter.widget-view+json": {
       "model_id": "75b446ad662a4927a539d2e36030e8f9",
       "version_major": 2,
       "version_minor": 0
      },
      "text/plain": [
       "Button(description='Save', style=ButtonStyle())"
      ]
     },
     "metadata": {},
     "output_type": "display_data"
    }
   ],
   "source": [
    "interact(pD6_raw_data,0.4,1.8)"
   ]
  },
  {
   "cell_type": "code",
   "execution_count": 9,
   "metadata": {},
   "outputs": [],
   "source": [
    "pD6_raw_data[26].anchor_points"
   ]
  },
  {
   "cell_type": "markdown",
   "metadata": {},
   "source": [
    "# Baseline correction and cruve fit for an example spectra workflow:"
   ]
  },
  {
   "cell_type": "markdown",
   "metadata": {},
   "source": [
    "## Fit baseline spline through these anchor points to be used for baseline correction of raw spectra"
   ]
  },
  {
   "cell_type": "code",
   "execution_count": 31,
   "metadata": {},
   "outputs": [
    {
     "name": "stdout",
     "output_type": "stream",
     "text": [
      "peak_wv [np.float64(2068.5525525525527), np.float64(1997.144144144144), np.float64(1971.2322322322323), np.float64(1925.4344344344345), np.float64(1916.997997997998), np.float64(1896.8108108108108), np.float64(1884.7587587587589), np.float64(1876.021021021021), np.float64(1862.4624624624626)]\n",
      "peak wv baseline [np.float64(1995.938938938939), np.float64(1884.7587587587589), np.float64(1895.003003003003), np.float64(1969.1231231231232), np.float64(1914.5875875875877), np.float64(1932.3643643643643), np.float64(1978.4634634634635), np.float64(2058.3083083083084), np.float64(1935.97997997998)]\n"
     ]
    },
    {
     "data": {
      "image/png": "[encoded data removed]",
      "text/plain": [
       "<Figure size 1000x500 with 1 Axes>"
      ]
     },
     "metadata": {},
     "output_type": "display_data"
    },
    {
     "name": "stdout",
     "output_type": "stream",
     "text": [
      "Plot saved to ../../output_plots//pD6/Hyd1 pD6 ACT.0000/baseline_subtracted_spectra\n",
      "Baseline corrected csv data saved to ../../output_plots//pD6/Hyd1 pD6 ACT.0000/baseline_corrected_data.csv\n",
      "Baseline corrected peak info saved to ../../output_plots//pD6/Hyd1 pD6 ACT.0000/baseline_corrected_peak_info.csv\n",
      "Please set and save the thresholds and adjustment factor for baseline spline!\n",
      "Please set and save the thresholds and adjustment factor for baseline spline!\n",
      "Please set and save the thresholds and adjustment factor for baseline spline!\n",
      "Please set and save the thresholds and adjustment factor for baseline spline!\n",
      "Please set and save the thresholds and adjustment factor for baseline spline!\n",
      "Please set and save the thresholds and adjustment factor for baseline spline!\n",
      "Please set and save the thresholds and adjustment factor for baseline spline!\n",
      "Please set and save the thresholds and adjustment factor for baseline spline!\n",
      "Please set and save the thresholds and adjustment factor for baseline spline!\n",
      "Please set and save the thresholds and adjustment factor for baseline spline!\n",
      "Please set and save the thresholds and adjustment factor for baseline spline!\n",
      "Please set and save the thresholds and adjustment factor for baseline spline!\n",
      "Please set and save the thresholds and adjustment factor for baseline spline!\n",
      "Please set and save the thresholds and adjustment factor for baseline spline!\n",
      "Please set and save the thresholds and adjustment factor for baseline spline!\n",
      "Please set and save the thresholds and adjustment factor for baseline spline!\n",
      "Please set and save the thresholds and adjustment factor for baseline spline!\n",
      "Please set and save the thresholds and adjustment factor for baseline spline!\n",
      "Please set and save the thresholds and adjustment factor for baseline spline!\n",
      "Please set and save the thresholds and adjustment factor for baseline spline!\n",
      "Please set and save the thresholds and adjustment factor for baseline spline!\n",
      "Please set and save the thresholds and adjustment factor for baseline spline!\n",
      "Please set and save the thresholds and adjustment factor for baseline spline!\n",
      "Please set and save the thresholds and adjustment factor for baseline spline!\n",
      "Please set and save the thresholds and adjustment factor for baseline spline!\n",
      "Please set and save the thresholds and adjustment factor for baseline spline!\n"
     ]
    }
   ],
   "source": [
    "baseline_correction_prospecpy_objects(pD6_raw_data, showplot = True, save = True, verbose = True)"
   ]
  },
  {
   "cell_type": "markdown",
   "metadata": {},
   "source": [
    "# Fitting gaussian and lorentizian curves on the baseline corrected data"
   ]
  },
  {
   "cell_type": "code",
   "execution_count": 37,
   "metadata": {},
   "outputs": [
    {
     "name": "stdout",
     "output_type": "stream",
     "text": [
      "An error occurred: Optimal parameters not found: Number of calls to function has reached maxfev = 5600.\n"
     ]
    }
   ],
   "source": [
    "gaussian_fit_prospecpy_objects(pD6_raw_data, show_plots = True, save = True, verbose = True)"
   ]
  },
  {
   "cell_type": "code",
   "execution_count": 33,
   "metadata": {},
   "outputs": [
    {
     "name": "stdout",
     "output_type": "stream",
     "text": [
      "An error occurred: Optimal parameters not found: Number of calls to function has reached maxfev = 5600.\n"
     ]
    }
   ],
   "source": [
    "lorentzian_fit_prospecpy_objects(pD6_raw_data, show_plots = True, save = True, verbose = True)"
   ]
  }
 ],
 "metadata": {
  "kernelspec": {
   "display_name": "hydrogen",
   "language": "python",
   "name": "python3"
  },
  "language_info": {
   "codemirror_mode": {
    "name": "ipython",
    "version": 3
   },
   "file_extension": ".py",
   "mimetype": "text/x-python",
   "name": "python",
   "nbconvert_exporter": "python",
   "pygments_lexer": "ipython3",
   "version": "3.12.5"
  }
 },
 "nbformat": 4,
 "nbformat_minor": 2
}
