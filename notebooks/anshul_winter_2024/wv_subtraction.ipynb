{
 "cells": [
  {
   "cell_type": "code",
   "execution_count": null,
   "metadata": {},
   "outputs": [],
   "source": [
    "%load_ext autoreload\n",
    "%autoreload 2\n",
    "\n",
    "#Setting Up and Importing the Necessary Packages/Libraries\n",
    "##Package for reading in Bruker OPUS type files\n",
    "from brukeropusreader import read_file\n",
    "import matplotlib.pyplot as plt\n",
    "import pathlib\n",
    "#Local Functions/the subtraction algorithm\n",
    "from vaporfit import atm_subtraction, AtmFitParams\n",
    "from remove_wv import subtract_wv"
   ]
  },
  {
   "cell_type": "code",
   "execution_count": null,
   "metadata": {},
   "outputs": [],
   "source": [
    "#Paths to Local Data\n",
    "path_to_hyd2_dark_titration_raw_data = pathlib.Path(\"../data/opus_files/hyd2_dark_titration_examples\")\n",
    "path_to_water_vapor_data = pathlib.Path(\"../data/opus_files/water_vapor\")\n",
    "path_to_output_plots_= pathlib.Path(\"../data/output_plots/\")"
   ]
  },
  {
   "cell_type": "code",
   "execution_count": null,
   "metadata": {},
   "outputs": [],
   "source": [
    "#Importing Water Vapor\n",
    "wv_data = read_file(f'{path_to_water_vapor_data}''/water vapor 4cm-1.1')"
   ]
  },
  {
   "cell_type": "code",
   "execution_count": null,
   "metadata": {},
   "outputs": [],
   "source": [
    "#Pulling in all raw spectra\n",
    "hyd2_dark_titration_raw_data = list(path_to_hyd2_dark_titration_raw_data.iterdir())\n",
    "hyd2_dark_titration_raw_data.sort()\n",
    "\n",
    "#Initializing dict of raw spectra files from the file system\n",
    "raw_opus_data = dict()\n",
    "\n",
    "#Populating the raw_opus_data dict with all the read in raw opus files\n",
    "for i in (hyd2_dark_titration_raw_data):\n",
    "    raw_opus_data[i.name[0:4]] = read_file(i)"
   ]
  },
  {
   "cell_type": "code",
   "execution_count": null,
   "metadata": {},
   "outputs": [],
   "source": [
    "#Initializing dict of post water vapor subtraction spectra\n",
    "sub_wv_data = dict()\n",
    "#raw_opus_data[\"011a\"][\"Sample\"][\"SNM\"][0:4]\n",
    "#type(raw_opus_data[\"011a\"])\n",
    "\n",
    "#Iteratively calling the subtract_wv function on each of the raw spectra to populate the sub_wv_data dict\n",
    "#Then plotting them and writing each of the plots to a local folder named for this round of testing.\n",
    "for i in (raw_opus_data.keys()):\n",
    "    sub_wv_data[f'{i}'f'_wv_sub'] = subtract_wv(raw_opus_data[f\"{i}\"], wv_data)\n",
    "    sub_wv_data[f'{i}'f'_wv_sub'][0][0].plot(save = True, file_name=f'{path_to_output_plots_}/12_15_23_wv_sub_tests/'f'{i}'f'_wv_sub.png')"
   ]
  }
 ],
 "metadata": {
  "kernelspec": {
   "display_name": "hydrogen",
   "language": "python",
   "name": "python3"
  },
  "language_info": {
   "codemirror_mode": {
    "name": "ipython",
    "version": 3
   },
   "file_extension": ".py",
   "mimetype": "text/x-python",
   "name": "python",
   "nbconvert_exporter": "python",
   "pygments_lexer": "ipython3",
   "version": "3.11.5"
  }
 },
 "nbformat": 4,
 "nbformat_minor": 2
}
